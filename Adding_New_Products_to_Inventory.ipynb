{
  "nbformat": 4,
  "nbformat_minor": 0,
  "metadata": {
    "colab": {
      "name": "Adding New Products to Inventory.ipynb",
      "provenance": [],
      "collapsed_sections": []
    },
    "kernelspec": {
      "name": "python3",
      "display_name": "Python 3"
    },
    "language_info": {
      "name": "python"
    }
  },
  "cells": [
    {
      "cell_type": "markdown",
      "metadata": {
        "id": "-NQzfVNzLTBt"
      },
      "source": [
        "#Read Data from JSON"
      ]
    },
    {
      "cell_type": "code",
      "metadata": {
        "id": "19jOpCjOMFjE"
      },
      "source": [
        "import json"
      ],
      "execution_count": 39,
      "outputs": []
    },
    {
      "cell_type": "code",
      "metadata": {
        "id": "2mgs-0k-LcOI"
      },
      "source": [
        "fd=open(\"record.json\",'r')\n",
        "r=fd.read()\n",
        "fd.close()"
      ],
      "execution_count": 40,
      "outputs": []
    },
    {
      "cell_type": "code",
      "metadata": {
        "colab": {
          "base_uri": "https://localhost:8080/"
        },
        "id": "knf_V5T0MPPk",
        "outputId": "d30edaeb-d47b-464d-aaeb-a211e7d72ac3"
      },
      "source": [
        "prod_id= str(input(\"Enter the product id:\"))\n",
        "name= str(input(\"Enter the product name:\"))\n",
        "pr= int(input(\"Enter the price of the product:\"))\n",
        "qn= int(input(\"Enter the quantity of the product:\"))\n",
        "\n",
        "lst=list(record.keys())\n",
        "if prod_id in lst:\n",
        "  qn =record[prod_id]['qn']+ qn\n",
        "else:\n",
        "  pass\n",
        "\n",
        "record[prod_id]={'name':name,'pr':pr,'qn':qn}\n",
        "\n",
        "js= json.dumps(record)\n",
        "\n",
        "fd=open(\"record.json\",'w')\n",
        "fd.write(js)\n",
        "fd.close()"
      ],
      "execution_count": 84,
      "outputs": [
        {
          "name": "stdout",
          "output_type": "stream",
          "text": [
            "Enter the product id:1032\n",
            "Enter the product name:Hide&Seek\n",
            "Enter the price of the product:15\n",
            "Enter the quantity of the product:400\n"
          ]
        }
      ]
    },
    {
      "cell_type": "code",
      "metadata": {
        "colab": {
          "base_uri": "https://localhost:8080/"
        },
        "id": "zFe0l7UFOwhZ",
        "outputId": "657ca8e2-940a-4b88-cace-0f18f15aa21f"
      },
      "source": [
        "record"
      ],
      "execution_count": 85,
      "outputs": [
        {
          "output_type": "execute_result",
          "data": {
            "text/plain": [
              "{'1001': {'name': 'Choco Cake', 'pr': 100, 'qn': 34},\n",
              " '1002': {'name': 'Milk Cake', 'pr': 800, 'qn': 100},\n",
              " '1003': {'name': 'Drink', 'pr': 85, 'qn': 100},\n",
              " '1004': {'name': 'Candy', 'pr': 5, 'qn': 1000},\n",
              " '1005': {'name': 'Pen', 'pr': 20, 'qn': 100},\n",
              " '1006': {'name': 'Phone', 'pr': 50000, 'qn': 10},\n",
              " '1007': {'name': 'Mic', 'pr': 1500, 'qn': 0},\n",
              " '1008': {'name': 'Case', 'pr': 599, 'qn': 5},\n",
              " '1009': {'name': 'Keyboard', 'pr': 1999, 'qn': 35},\n",
              " '1010': {'name': 'Laptop', 'pr': 50000, 'qn': 63},\n",
              " '1011': {'name': 'Mouse', 'pr': 200, 'qn': 50},\n",
              " '1012': {'name': 'Joystick', 'pr': 90, 'qn': 400},\n",
              " '1013': {'name': 'GPU', 'pr': 5000, 'qn': 40},\n",
              " '1014': {'name': 'PeaNut Butter', 'pr': 150, 'qn': 500},\n",
              " '1015': {'name': 'Bread', 'pr': 20, 'qn': 100},\n",
              " '1016': {'name': 'Milk', 'pr': 50, 'qn': 150},\n",
              " '1017': {'name': 'Sattoo', 'pr': 120, 'qn': 500},\n",
              " '1018': {'name': 'Himalaya Soap', 'pr': 60, 'qn': 200},\n",
              " '1019': {'name': 'Dove Soap', 'pr': 30, 'qn': 300},\n",
              " '1020': {'name': 'Coconut Oil', 'pr': 150, 'qn': 200},\n",
              " '1021': {'name': 'Geometry Box', 'pr': 250, 'qn': 100},\n",
              " '1022': {'name': 'Channa Besan', 'pr': 45, 'qn': 300},\n",
              " '1023': {'name': 'Suji', 'pr': 52, 'qn': 600},\n",
              " '1024': {'name': 'Flour', 'pr': 35, 'qn': 1000},\n",
              " '1025': {'name': 'Mineral Water', 'pr': 20, 'qn': 600},\n",
              " '1026': {'name': 'Coca Cola', 'pr': 75, 'qn': 150},\n",
              " '1027': {'name': 'Pepsi', 'pr': 75, 'qn': 320},\n",
              " '1028': {'name': 'Dairy Milk Silk', 'pr': 90, 'qn': 100},\n",
              " '1029': {'name': 'Kitkat', 'pr': 50, 'qn': 60},\n",
              " '1030': {'name': '5 Stars', 'pr': 30, 'qn': 100},\n",
              " '1031': {'name': 'Oreo', 'pr': 10, 'qn': 500},\n",
              " '1032': {'name': 'Hide&Seek', 'pr': 15, 'qn': 400}}"
            ]
          },
          "metadata": {},
          "execution_count": 85
        }
      ]
    },
    {
      "cell_type": "code",
      "metadata": {
        "id": "OZBMYeu1_3tw"
      },
      "source": [
        ""
      ],
      "execution_count": null,
      "outputs": []
    }
  ]
}