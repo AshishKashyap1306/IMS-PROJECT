{
  "nbformat": 4,
  "nbformat_minor": 0,
  "metadata": {
    "colab": {
      "name": "Purchasing Products from Inventory.ipynb",
      "provenance": []
    },
    "kernelspec": {
      "name": "python3",
      "display_name": "Python 3"
    },
    "language_info": {
      "name": "python"
    }
  },
  "cells": [
    {
      "cell_type": "code",
      "metadata": {
        "id": "yOwhiHjMxjTu"
      },
      "source": [
        "import json\n",
        "\n",
        "fd=open(\"record.json\",'r')\n",
        "r=fd.read()\n",
        "fd.close()\n",
        "records=json.loads(r)"
      ],
      "execution_count": 20,
      "outputs": []
    },
    {
      "cell_type": "code",
      "metadata": {
        "colab": {
          "base_uri": "https://localhost:8080/"
        },
        "id": "ZG9rQccux8LK",
        "outputId": "f1c345b7-cd10-4870-847e-1ffd0ac452f1"
      },
      "source": [
        "records"
      ],
      "execution_count": 21,
      "outputs": [
        {
          "output_type": "execute_result",
          "data": {
            "text/plain": [
              "{'1001': {'name': 'Choco Cake', 'pr': 100, 'qn': 34},\n",
              " '1002': {'name': 'Milk Cake', 'pr': 800, 'qn': 100},\n",
              " '1003': {'name': 'Drink', 'pr': 85, 'qn': 100},\n",
              " '1004': {'name': 'Candy', 'pr': 5, 'qn': 1000},\n",
              " '1005': {'name': 'Pen', 'pr': 20, 'qn': 100},\n",
              " '1006': {'name': 'Phone', 'pr': 50000, 'qn': 10},\n",
              " '1007': {'name': 'Mic', 'pr': 1500, 'qn': 0},\n",
              " '1008': {'name': 'Case', 'pr': 599, 'qn': 5},\n",
              " '1009': {'name': 'Keyboard', 'pr': 1999, 'qn': 35},\n",
              " '1010': {'name': 'Laptop', 'pr': 50000, 'qn': 63},\n",
              " '1011': {'name': 'Mouse', 'pr': 200, 'qn': 50},\n",
              " '1012': {'name': 'Joystick', 'pr': 90, 'qn': 400},\n",
              " '1013': {'name': 'GPU', 'pr': 5000, 'qn': 40},\n",
              " '1014': {'name': 'PeaNut Butter', 'pr': 150, 'qn': 500},\n",
              " '1015': {'name': 'Bread', 'pr': 20, 'qn': 100},\n",
              " '1016': {'name': 'Milk', 'pr': 50, 'qn': 150},\n",
              " '1017': {'name': 'Sattoo', 'pr': 120, 'qn': 500},\n",
              " '1018': {'name': 'Himalaya Soap', 'pr': 60, 'qn': 200},\n",
              " '1019': {'name': 'Dove Soap', 'pr': 30, 'qn': 300},\n",
              " '1020': {'name': 'Coconut Oil', 'pr': 150, 'qn': 200},\n",
              " '1021': {'name': 'Geometry Box', 'pr': 250, 'qn': 100},\n",
              " '1022': {'name': 'Channa Besan', 'pr': 45, 'qn': 300},\n",
              " '1023': {'name': 'Suji', 'pr': 52, 'qn': 600},\n",
              " '1024': {'name': 'Flour', 'pr': 35, 'qn': 1000},\n",
              " '1025': {'name': 'Mineral Water', 'pr': 20, 'qn': 600},\n",
              " '1026': {'name': 'Coca Cola', 'pr': 75, 'qn': 150},\n",
              " '1027': {'name': 'Pepsi', 'pr': 75, 'qn': 320},\n",
              " '1028': {'name': 'Dairy Milk Silk', 'pr': 90, 'qn': 100},\n",
              " '1029': {'name': 'Kitkat', 'pr': 50, 'qn': 60},\n",
              " '1030': {'name': '5 Stars', 'pr': 30, 'qn': 100},\n",
              " '1031': {'name': 'Oreo', 'pr': 10, 'qn': 500},\n",
              " '1032': {'name': 'Hide&Seek', 'pr': 15, 'qn': 400}}"
            ]
          },
          "metadata": {},
          "execution_count": 21
        }
      ]
    },
    {
      "cell_type": "markdown",
      "metadata": {
        "id": "iFIRGIYHz8yR"
      },
      "source": [
        "#Purchane Products"
      ]
    },
    {
      "cell_type": "code",
      "metadata": {
        "colab": {
          "base_uri": "https://localhost:8080/"
        },
        "id": "gy0rWfrhx-WK",
        "outputId": "686828ca-1a10-4792-a972-2d655e221c88"
      },
      "source": [
        "ui_prod=str(input(\"Enter the Product_Id:\"))\n",
        "ui_quant=int(input(\"Enter the quantity:\"))\n",
        "ph=str(input(\"Enter Customers Monile No:\"))\n",
        "lst=list(records.keys())\n",
        "if ui_prod in lst:\n",
        "  if records[ui_prod]['qn']<ui_quant:\n",
        "    print(\"We only have \"+str(records[ui_prod]['qn'])+\" \"+records[ui_prod]['name'])\n",
        "  else:\n",
        "    records[ui_prod]['qn']=records[ui_prod]['qn']-ui_quant\n",
        "    print(\"Product:\",records[ui_prod]['name'])\n",
        "    print(\"Price:\",records[ui_prod]['pr'])\n",
        "    print(\"Mobile No:\",ph)\n",
        "    print(\"Billing Amount:\",records[ui_prod]['pr']*ui_quant)\n",
        "else:\n",
        "  print(\"The Product is not in the inventory\")\n",
        "\n",
        "sales[(len(sales)+1)]={'prod':ui_prod,'qn':ui_quant,'mobile no': ph,'amount':records[ui_prod]['pr']*ui_quant}\n",
        "sales\n",
        "\n"
      ],
      "execution_count": 76,
      "outputs": [
        {
          "output_type": "stream",
          "name": "stdout",
          "text": [
            "Enter the Product_Id:1009\n",
            "Enter the quantity:5\n",
            "Enter Customers Monile No:7563124596\n",
            "Product: Keyboard\n",
            "Price: 1999\n",
            "Mobile No: 7563124596\n",
            "Billing Amount: 9995\n"
          ]
        },
        {
          "output_type": "execute_result",
          "data": {
            "text/plain": [
              "{1: {'amount': 5750, 'mobile no': '1236459675', 'prod': '1021', 'qn': 23},\n",
              " 2: {'amount': 5750, 'mobile no': '1236459675', 'prod': '1021', 'qn': 23},\n",
              " 3: {'amount': 5750, 'mobile no': '1236459675', 'prod': '1021', 'qn': 23},\n",
              " 4: {'amount': 520, 'mobile no': '2023252668', 'prod': '1023', 'qn': 10},\n",
              " 5: {'amount': 420, 'mobile no': '4526358575', 'prod': '1030', 'qn': 14},\n",
              " 6: {'amount': 240, 'mobile no': '8695451235', 'prod': '1025', 'qn': 12},\n",
              " 7: {'amount': 780, 'mobile no': '1078964215', 'prod': '1019', 'qn': 26},\n",
              " 8: {'amount': 1170, 'mobile no': '3645859674', 'prod': '1012', 'qn': 13},\n",
              " 9: {'amount': 1800, 'mobile no': '364575641', 'prod': '1014', 'qn': 12},\n",
              " 10: {'amount': 720, 'mobile no': '3678964512', 'prod': '1018', 'qn': 12},\n",
              " 11: {'amount': 300, 'mobile no': '8545631258', 'prod': '1030', 'qn': 10},\n",
              " 12: {'amount': 9995, 'mobile no': '7563124596', 'prod': '1009', 'qn': 5}}"
            ]
          },
          "metadata": {},
          "execution_count": 76
        }
      ]
    },
    {
      "cell_type": "markdown",
      "metadata": {
        "id": "IyrADJeb42tZ"
      },
      "source": [
        "#Update Inventory after Purchase"
      ]
    },
    {
      "cell_type": "code",
      "metadata": {
        "id": "-1dF2SJF4lZb"
      },
      "source": [
        "js=json.dumps(records)\n",
        "\n",
        "fd=open(\"record.json\",'w')\n",
        "fd.write(js)\n",
        "fd.close()"
      ],
      "execution_count": 77,
      "outputs": []
    },
    {
      "cell_type": "markdown",
      "metadata": {
        "id": "fplLIWxg539J"
      },
      "source": [
        "#Sales JSON"
      ]
    },
    {
      "cell_type": "code",
      "metadata": {
        "colab": {
          "base_uri": "https://localhost:8080/"
        },
        "id": "xLN6cRB-5WoH",
        "outputId": "c01c6204-e3f0-4290-e791-b1364a42ba9a"
      },
      "source": [
        "{'prod':ui_prod,'qn':ui_quant,'mobile no': ph,'amount':records[ui_prod]['pr']*ui_quant}"
      ],
      "execution_count": 78,
      "outputs": [
        {
          "output_type": "execute_result",
          "data": {
            "text/plain": [
              "{'amount': 9995, 'mobile no': '7563124596', 'prod': '1009', 'qn': 5}"
            ]
          },
          "metadata": {},
          "execution_count": 78
        }
      ]
    },
    {
      "cell_type": "code",
      "metadata": {
        "id": "DUxBteOk7ZUK"
      },
      "source": [
        "sale=json.dumps(sales)\n",
        "\n",
        "fd=open(\"sales.json\",'w')\n",
        "fd.write(js)\n",
        "fd.close()\n",
        "\n"
      ],
      "execution_count": 79,
      "outputs": []
    },
    {
      "cell_type": "code",
      "metadata": {
        "id": "be_-A1gXDcjY"
      },
      "source": [
        ""
      ],
      "execution_count": null,
      "outputs": []
    }
  ]
}